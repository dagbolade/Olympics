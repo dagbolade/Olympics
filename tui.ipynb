{
 "cells": [
  {
   "cell_type": "markdown",
   "source": [
    "# This module will contain the functions to display messages and read in the user's response"
   ],
   "metadata": {
    "collapsed": false
   },
   "id": "804848d54d45973a"
  },
  {
   "cell_type": "code",
   "execution_count": 3,
   "id": "initial_id",
   "metadata": {
    "collapsed": true,
    "ExecuteTime": {
     "end_time": "2023-11-06T09:38:58.734946600Z",
     "start_time": "2023-11-06T09:38:58.726432700Z"
    }
   },
   "outputs": [
    {
     "name": "stdout",
     "output_type": "stream",
     "text": [
      "-------------------------------------------------------------------------------------\n",
      "Operation started: Reading data from athlete_events.csv...\n"
     ]
    }
   ],
   "source": [
    "def started(msg=\"\"):\n",
    "    ## The function should display a line of 85 dashes (you may vary  this number as appropriate for your console window size).\n",
    "    print(\"-\"*85)\n",
    "    ## The function should then display the message \"Operation started: {msg}...\\n\" where {msg} is the value passed as a parameter.\n",
    "    print(f\"Operation started: {msg}...\\n\")\n",
    "    ## The expected output of the function (when msg is \"Reading data from athlete_events.csv\") is as follows:\n",
    "    ##-------------------------------------------------------------------------------------\n",
    "    ##Operation started: Reading data from athlete_events.csv...\n",
    "started(\"Reading data from athlete_events.csv\")\n"
   ]
  },
  {
   "cell_type": "markdown",
   "source": [],
   "metadata": {
    "collapsed": false
   },
   "id": "d6fc922367a28a74"
  },
  {
   "cell_type": "code",
   "execution_count": null,
   "outputs": [],
   "source": [],
   "metadata": {
    "collapsed": false
   },
   "id": "6fdd3b67789efd16"
  }
 ],
 "metadata": {
  "kernelspec": {
   "display_name": "Python 3",
   "language": "python",
   "name": "python3"
  },
  "language_info": {
   "codemirror_mode": {
    "name": "ipython",
    "version": 2
   },
   "file_extension": ".py",
   "mimetype": "text/x-python",
   "name": "python",
   "nbconvert_exporter": "python",
   "pygments_lexer": "ipython2",
   "version": "2.7.6"
  }
 },
 "nbformat": 4,
 "nbformat_minor": 5
}
