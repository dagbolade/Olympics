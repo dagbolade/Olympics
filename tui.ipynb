{
 "cells": [
  {
   "cell_type": "markdown",
   "source": [
    "# This module will contain the functions to display messages and read in the user's response"
   ],
   "metadata": {
    "collapsed": false
   },
   "id": "804848d54d45973a"
  },
  {
   "cell_type": "code",
   "execution_count": 3,
   "id": "initial_id",
   "metadata": {
    "collapsed": true,
    "ExecuteTime": {
     "end_time": "2023-11-06T09:38:58.734946600Z",
     "start_time": "2023-11-06T09:38:58.726432700Z"
    }
   },
   "outputs": [
    {
     "name": "stdout",
     "output_type": "stream",
     "text": [
      "-------------------------------------------------------------------------------------\n",
      "Operation started: Reading data from athlete_events.csv...\n"
     ]
    }
   ],
   "source": [
    "def started(msg=\"\"):\n",
    "    ## The function should display a line of 85 dashes (you may vary  this number as appropriate for your console window size).\n",
    "    print(\"-\"*85)\n",
    "    ## The function should then display the message \"Operation started: {msg}...\\n\" where {msg} is the value passed as a parameter.\n",
    "    print(f\"Operation started: {msg}...\\n\")\n",
    "    ## The expected output of the function (when msg is \"Reading data from athlete_events.csv\") is as follows:\n",
    "    ##-------------------------------------------------------------------------------------\n",
    "    ##Operation started: Reading data from athlete_events.csv...\n",
    "started(\"Reading data from athlete_events.csv\")\n"
   ]
  },
  {
   "cell_type": "markdown",
   "source": [],
   "metadata": {
    "collapsed": false
   },
   "id": "d6fc922367a28a74"
  },
  {
   "cell_type": "markdown",
   "source": [
    "create a function completed"
   ],
   "metadata": {
    "collapsed": false
   },
   "id": "55edad4138a664bf"
  },
  {
   "cell_type": "code",
   "execution_count": 4,
   "outputs": [
    {
     "name": "stdout",
     "output_type": "stream",
     "text": [
      "Operation completed.\n",
      "\n",
      "-------------------------------------------------------------------------------------\n"
     ]
    }
   ],
   "source": [
    "def completed():\n",
    "     ## The function should then display the message \"Operation completed.\\n\"\n",
    "    print(\"Operation completed.\\n\")\n",
    "    ## The function should display a line of 85 dashes.\n",
    "    print(\"-\"*85)\n",
    "   \n",
    "    ## The expected output of the function is as follows:\n",
    "    ##-------------------------------------------------------------------------------------\n",
    "    ##Operation completed.\n",
    "completed()"
   ],
   "metadata": {
    "collapsed": false,
    "ExecuteTime": {
     "end_time": "2023-11-06T10:26:29.732303900Z",
     "start_time": "2023-11-06T10:26:29.731798300Z"
    }
   },
   "id": "6fdd3b67789efd16"
  },
  {
   "cell_type": "markdown",
   "source": [
    "# create a function to display the menu"
   ],
   "metadata": {
    "collapsed": false
   },
   "id": "3e58bc6dbbe3c189"
  },
  {
   "cell_type": "code",
   "execution_count": 5,
   "outputs": [
    {
     "name": "stdout",
     "output_type": "stream",
     "text": [
      "1. [years]  List unique years\n",
      "[tally] tally up medals\n",
      "[ctally]  Tally up medals for each team\n",
      "[exit]  Exit the program\n"
     ]
    },
    {
     "data": {
      "text/plain": "''"
     },
     "execution_count": 5,
     "metadata": {},
     "output_type": "execute_result"
    }
   ],
   "source": [
    "def menu():\n",
    "    ## display a menu containing the following options:\n",
    "    \n",
    "    print(\"[years]  List unique years\")\n",
    "    \n",
    "    print(\"[tally] tally up medals\")\n",
    "    print(\"[ctally]  Tally up medals for each team\")\n",
    "    print(\"[exit]  Exit the program\")\n",
    "     \n",
    "    user_input = input(\"Your selection: \")\n",
    "    return user_input\n",
    "\n",
    "menu()\n",
    "    "
   ],
   "metadata": {
    "collapsed": false,
    "ExecuteTime": {
     "end_time": "2023-11-06T11:58:42.852828500Z",
     "start_time": "2023-11-06T11:58:25.044244100Z"
    }
   },
   "id": "8f0811ac29143070"
  },
  {
   "cell_type": "code",
   "execution_count": null,
   "outputs": [],
   "source": [],
   "metadata": {
    "collapsed": false
   },
   "id": "770a9cc741ee6b3c"
  }
 ],
 "metadata": {
  "kernelspec": {
   "display_name": "Python 3",
   "language": "python",
   "name": "python3"
  },
  "language_info": {
   "codemirror_mode": {
    "name": "ipython",
    "version": 2
   },
   "file_extension": ".py",
   "mimetype": "text/x-python",
   "name": "python",
   "nbconvert_exporter": "python",
   "pygments_lexer": "ipython2",
   "version": "2.7.6"
  }
 },
 "nbformat": 4,
 "nbformat_minor": 5
}
